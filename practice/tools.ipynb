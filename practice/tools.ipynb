{
 "cells": [
  {
   "cell_type": "code",
   "execution_count": 1,
   "id": "45bec643",
   "metadata": {},
   "outputs": [],
   "source": [
    "from langchain_community.tools import WikipediaQueryRun\n",
    "from langchain_community.utilities import WikipediaAPIWrapper"
   ]
  },
  {
   "cell_type": "code",
   "execution_count": 2,
   "id": "e31946c1",
   "metadata": {},
   "outputs": [],
   "source": [
    "api_wrapper=WikipediaAPIWrapper(top_k_results=5,doc_content_chars_max= 500)\n",
    "wiki_tool=WikipediaQueryRun(api_wrapper=api_wrapper)"
   ]
  },
  {
   "cell_type": "code",
   "execution_count": 3,
   "id": "d1be4f87",
   "metadata": {},
   "outputs": [
    {
     "data": {
      "text/plain": [
       "'wikipedia'"
      ]
     },
     "execution_count": 3,
     "metadata": {},
     "output_type": "execute_result"
    }
   ],
   "source": [
    "wiki_tool.name"
   ]
  },
  {
   "cell_type": "code",
   "execution_count": 4,
   "id": "e3fbc57c",
   "metadata": {},
   "outputs": [
    {
     "data": {
      "text/plain": [
       "'A wrapper around Wikipedia. Useful for when you need to answer general questions about people, places, companies, facts, historical events, or other subjects. Input should be a search query.'"
      ]
     },
     "execution_count": 4,
     "metadata": {},
     "output_type": "execute_result"
    }
   ],
   "source": [
    "wiki_tool.description"
   ]
  },
  {
   "cell_type": "code",
   "execution_count": 5,
   "id": "1f159d3e",
   "metadata": {},
   "outputs": [
    {
     "data": {
      "text/plain": [
       "{'query': {'description': 'query to look up on wikipedia',\n",
       "  'title': 'Query',\n",
       "  'type': 'string'}}"
      ]
     },
     "execution_count": 5,
     "metadata": {},
     "output_type": "execute_result"
    }
   ],
   "source": [
    "wiki_tool.args"
   ]
  },
  {
   "cell_type": "code",
   "execution_count": 6,
   "id": "019f328c",
   "metadata": {},
   "outputs": [
    {
     "data": {
      "text/plain": [
       "'Page: Northern Trust\\nSummary: Northern Trust Corporation is an American financial services company headquartered in Chicago, Illinois, that caters to corporations, institutional investors, and ultra high net worth individuals. Northern Trust is one of the largest banking institutions in the United States and one of the oldest banks in continuous operation. As of June 30, 2022, it had $1.7 trillion in assets under management and $17 trillion in assets under custody. Northern Trust Corporation is '"
      ]
     },
     "execution_count": 6,
     "metadata": {},
     "output_type": "execute_result"
    }
   ],
   "source": [
    "wiki_tool.run({\"query\":\"Northern Trust\"})"
   ]
  },
  {
   "cell_type": "code",
   "execution_count": 7,
   "id": "db2aefb2",
   "metadata": {},
   "outputs": [
    {
     "data": {
      "text/plain": [
       "'Page: Pune\\nSummary: Pune (Marathi: Puṇē, pronounced [ˈpuɳe]  POO-nay), previously spelled in English as Poona (the official name until 1978), is a city in the state of Maharashtra in the Deccan plateau in Western India. It is the administrative headquarters of the Pune district, and of Pune division. In terms of the total amount of land under its jurisdiction, Pune is the largest city in Maharashtra, with a geographical area of 516.18 km2, though by population it comes in a distant second to Mum'"
      ]
     },
     "execution_count": 7,
     "metadata": {},
     "output_type": "execute_result"
    }
   ],
   "source": [
    "wiki_tool.run(\"Pune\")"
   ]
  },
  {
   "cell_type": "code",
   "execution_count": 8,
   "id": "5694c783",
   "metadata": {},
   "outputs": [],
   "source": [
    "from langchain_community.tools import YouTubeSearchTool\n",
    "tool=YouTubeSearchTool()"
   ]
  },
  {
   "cell_type": "code",
   "execution_count": 9,
   "id": "7d50dc7a",
   "metadata": {},
   "outputs": [
    {
     "data": {
      "text/plain": [
       "\"['https://www.youtube.com/watch?v=fwNrTshQB8k&pp=ygUOTm9ydGhlcm4gVHJ1c3Q%3D', 'https://www.youtube.com/watch?v=w7Fkh4X634s&pp=ygUOTm9ydGhlcm4gVHJ1c3Q%3D']\""
      ]
     },
     "execution_count": 9,
     "metadata": {},
     "output_type": "execute_result"
    }
   ],
   "source": [
    "tool.run(\"Northern Trust\")"
   ]
  },
  {
   "cell_type": "code",
   "execution_count": 1,
   "id": "f6b15a62",
   "metadata": {},
   "outputs": [],
   "source": [
    "from langchain_community.tools.tavily_search import TavilySearchResults"
   ]
  },
  {
   "cell_type": "code",
   "execution_count": 2,
   "id": "11fbd5c5",
   "metadata": {},
   "outputs": [],
   "source": [
    "import os\n",
    "TAVILY_API_KEY=os.getenv(\"TAVILY_API_KEY\")"
   ]
  },
  {
   "cell_type": "code",
   "execution_count": 3,
   "id": "dc9cd200",
   "metadata": {},
   "outputs": [
    {
     "name": "stderr",
     "output_type": "stream",
     "text": [
      "C:\\Users\\Ishan Pande\\AppData\\Local\\Temp\\ipykernel_50948\\1977317048.py:3: LangChainDeprecationWarning: The class `TavilySearchResults` was deprecated in LangChain 0.3.25 and will be removed in 1.0. An updated version of the class exists in the :class:`~langchain-tavily package and should be used instead. To use it run `pip install -U :class:`~langchain-tavily` and import as `from :class:`~langchain_tavily import TavilySearch``.\n",
      "  tavily_tool=TavilySearchResults(TAVILY_API_KEY=TAVILY_API_KEY)\n"
     ]
    },
    {
     "data": {
      "text/plain": [
       "[{'title': 'IPL Winners List ⦗𝟮𝟬𝟬𝟴- 𝟮𝟬𝟮𝟱⦘ - Check Winning Team ...',\n",
       "  'url': 'https://www.jagranjosh.com/general-knowledge/list-of-all-ipl-winner-teams-1527686257-1',\n",
       "  'content': 'Latest Update: RCB won the IPL 2025 by beating Punjab Kings by 6 runs and won the IPL 2025. This is the first title for RCB in 18 years.\\n\\nIn terms of IPL titles, the Mumbai Indians and Chennai Super Kings have won the IPL 5 times,  while KKR is the next best with 3 IPL titles.\\n\\nCheck out:\\n\\nFastest 50 in IPL (2008-2025)\")\\n\\nWhat are Qualifiers and Eliminators in IPL Playoffs? Check out here!\\n\\n## IPL Winners List (2008-2025)\\n\\nThe table below covers the IPL winners list from 2008 to 2025. [...] ## Winner List of IPL:  RCB became the winners of IPL 2025 by defeating PBKS by 6 runs.  Mumbai Indians and Chennai Super Kings have won the maximum number of IPL titles in history. Check the complete list of IPL winners from 2008 to 2025 here.\\n\\nAdd as a preferred source on Google\\n\\nJoin us\\n\\nIPL Winners List (2008-2025) [...] RCB defeated Punjab Kings by 6 runs to win IPL 2025 in a sensational display of T20 cricket. This marks the first IPL title for RCB in 18 years. This was the 4th IPL final for RCB and their first title under the leadership of Rajat Patidar.\\n\\n> 𝐂𝐇𝐀𝐌𝐏𝐈𝐎𝐍𝐒 𝐎𝐅 #𝐓𝐀𝐓𝐀𝐈𝐏𝐋 𝟐𝟎𝟐𝟓 🏆🤩  \\n>   \\n> The ROYAL CHALLENGERS BENGALURU have done it for the first time ❤#RCBvPBKS | #Final | #TheLastMile | @RCBTweets pic.twitter.com/x4rGdcNavS\\n>\\n> — IndianPremierLeague (@IPL) June 3, 2025\\n\\nCheck out:',\n",
       "  'score': 0.91563576},\n",
       " {'title': 'IPL 2025 | Live Score, Schedule, News',\n",
       "  'url': 'https://www.espncricinfo.com/series/ipl-2025-1449924',\n",
       "  'content': 'SRH won by 42 runs](/series/ipl-2025-1449924/royal-challengers-bengaluru-vs-sunrisers-hyderabad-65th-match-1473503/full-scorecard)\\n\\nView All Results\\n\\nStats & Records\\n\\nIPL 2025See All\\n\\nMost Runs\\n\\nMost Wickets\\n\\nHigh Scores\\n\\nBest Bowling\\n\\nHigh Team Totals\\n\\nMost Catches\\n\\nOverall IPL records\\n\\nWinner\\n\\nRoyal Challengers Bengaluru\\n\\nTax rates on IPL tickets go up to 40%, will be more expensive\\n\\nHowever, international cricket gets a respite and sees a reduction in its GST rate from 28% to 18% [...] Final (N), Ahmedabad, June 03, 2025, [Indian Premier League\\n\\nRCB\\n\\n190/9\\n\\nPBKS\\n\\n(20 ov, T:191) 184/7\\n\\nRCB won by 6 runs](/series/ipl-2025-1449924/punjab-kings-vs-royal-challengers-bengaluru-final-1473511/full-scorecard)RESULT\\n\\nQualifier 2 (N), Ahmedabad, June 01, 2025, [Indian Premier League\\n\\nMI\\n\\n203/6\\n\\nPBKS\\n\\n(19/20 ov, T:204) 207/5\\n\\nPBKS won by 5 wickets (with 6 balls remaining)](/series/ipl-2025-1449924/mumbai-indians-vs-punjab-kings-qualifier-2-1473510/full-scorecard)RESULT [...] 70th Match (N), Lucknow, May 27, 2025, [Indian Premier League\\n\\nLSG\\n\\n227/3\\n\\nRCB\\n\\n(18.4/20 ov, T:228) 230/4\\n\\nRCB won by 6 wickets (with 8 balls remaining)](/series/ipl-2025-1449924/lucknow-super-giants-vs-royal-challengers-bengaluru-70th-match-1473507/full-scorecard)RESULT\\n\\n69th Match (N), Jaipur, May 26, 2025, [Indian Premier League\\n\\nMI\\n\\n184/7\\n\\nPBKS\\n\\n(18.3/20 ov, T:185) 187/3',\n",
       "  'score': 0.90830135},\n",
       " {'title': 'IPL winners list: Know all champions',\n",
       "  'url': 'https://www.olympics.com/en/news/indian-premier-league-ipl-winners-list-champions',\n",
       "  'content': 'Royal Challengers Bengaluru finally ended their wait for an IPL trophy drought in 2025.\\n\\nAfter losing in the last hurdle three times, RCB finally lifted the title after beating Punjab Kings in the IPL 2025 final.\\n\\nPunjab Kings and Delhi Capitals are the only active teams to have not won the trophy despite featuring in the IPL since the inaugural season in 2008.\\n\\n## IPL winners list [...] # IPL winners: Chennai Super Kings, Mumbai Indians five-time champions each - full list\\n\\nThere have been eight different IPL champions since the T20 cricket tournament began in 2008. Rajasthan Royals were the inaugural winners. Get the complete list.\\n\\nPicture by Getty Images\\n\\nBy Anjishnu Roy\\n\\nUpdated on 03 June 2025 17:58 GMT+02 min read [...] | 2023 | Chennai Super Kings | Gujarat Titans | Ahmedabad |\\n| 2024 | Kolkata Knight Riders | Sunrisers Hyderabad | Chennai |\\n| 2025 | Royal Challengers Bengaluru | Punjab Kings | Ahmedabad |',\n",
       "  'score': 0.8934678},\n",
       " {'title': 'Kohli and RCB are finally IPL champions',\n",
       "  'url': 'https://www.espncricinfo.com/series/ipl-2025-1449924/punjab-kings-vs-royal-challengers-bengaluru-final-1473511/match-report',\n",
       "  'content': \"Eighteen seasons in, Royal Challengers Bengaluru (RCB) are finally IPL champions. Their victory in their fourth final came at the expense of another trophy-less team that had put together a heartwarming IPL 2025 campaign; it wasn't to be for Punjab Kings (PBKS), but their time will surely come too. [...] Karthik Krishnaswamy is an assistant editor at ESPNcricinfo\\n\\nLanguage\\n\\nEnglish\\n\\nWin Probability\\n\\nRCB 100%\\n\\nRCBPBKS100%50%100%\\n\\nOver 20 • PBKS 184/7\\n\\nRCB won by 6 runs\\n\\nPowered by Smart Stats\\n\\nMatch Coverage\\n\\nAll Match News\\n\\nIPL 2025: Kohli, Bumrah, Iyer headline ESPNcricinfo's team of the tournament\\n\\nFour members of RCB's title-winning side in the XII, but who else make the cut?\\n\\nRCB to extend IPL title celebrations in Bengaluru\",\n",
       "  'score': 0.87166095},\n",
       " {'title': '2025 Indian Premier League',\n",
       "  'url': 'https://en.wikipedia.org/wiki/2025_Indian_Premier_League',\n",
       "  'content': '| Sunrisers Hyderabad won by 8 wickets Rajiv Gandhi International Cricket Stadium, Hyderabad Umpires: Keyur Kelkar (Ind) and Akshay Totre (Ind) Player of the match: Abhishek Sharma (Sunrisers Hyderabad) |\\n\\n Punjab Kings won the toss and elected to bat.\\n Eshan Malinga (Sunrisers Hyderabad) made his IPL debut.\\n\\n|  |\\n\\n| Match 28 13 April 2025 (2025-04-13) 15:30 (D/N) Scorecard | [...] | Gujarat Titans won by 39 runs Eden Gardens, Kolkata Umpires: Rohan Pandit (Ind) and Anish Sahasrabudhe (Ind) Player of the match: Shubman Gill (Gujarat Titans) |\\n\\n Kolkata Knight Riders won the toss and elected to field.\\n\\n|  |\\n\\n| Match 40 22 April 2025 (2025-04-22) 19:30 (N) Scorecard | [...] | Lucknow Super Giants | 0 | 2 | 2 | 4 | 6 | 8 | 8 | 10 | 10 | 10 | 10 | 10 | 12 | 12 |\\n| Mumbai Indians | 0 | 0 | 2 | 2 | 2 | 4 | 6 | 8 | 10 | 12 | 14 | 14 | 16 | 16 | W | L |\\n| Punjab Kings | 2 | 4 | 4 | 6 | 6 | 8 | 10 | 10 | 11 | 13 | 15 | 17 | 17 | 19 | L | W | L |\\n| Rajasthan Royals | 0 | 0 | 2 | 4 | 4 | 4 | 4 | 4 | 4 | 6 | 6 | 6 | 6 | 8 |\\n| Royal Challengers Bengaluru | 2 | 4 | 4 | 6 | 6 | 8 | 8 | 10 | 12 | 14 | 16 | 17 | 17 | 19 | W | W |',\n",
       "  'score': 0.8524574}]"
      ]
     },
     "execution_count": 3,
     "metadata": {},
     "output_type": "execute_result"
    }
   ],
   "source": [
    "from langchain_community.tools.tavily_search import TavilySearchResults\n",
    "TAVILY_API_KEY=os.getenv(\"TAVILY_API_KEY\")\n",
    "tavily_tool=TavilySearchResults(TAVILY_API_KEY=TAVILY_API_KEY)\n",
    "tavily_tool.invoke(\"who won IPL in 2025\")"
   ]
  }
 ],
 "metadata": {
  "kernelspec": {
   "display_name": "tools-venv",
   "language": "python",
   "name": "python3"
  },
  "language_info": {
   "codemirror_mode": {
    "name": "ipython",
    "version": 3
   },
   "file_extension": ".py",
   "mimetype": "text/x-python",
   "name": "python",
   "nbconvert_exporter": "python",
   "pygments_lexer": "ipython3",
   "version": "3.13.5"
  }
 },
 "nbformat": 4,
 "nbformat_minor": 5
}
