{
 "cells": [
  {
   "cell_type": "markdown",
   "id": "692f6812",
   "metadata": {},
   "source": [
    "### Agentic workflow - LLM integrated with Tools"
   ]
  },
  {
   "cell_type": "code",
   "execution_count": 1,
   "id": "ecf1b496",
   "metadata": {},
   "outputs": [],
   "source": [
    "from dotenv import load_dotenv"
   ]
  }
 ],
 "metadata": {
  "kernelspec": {
   "display_name": "tools-venv",
   "language": "python",
   "name": "python3"
  },
  "language_info": {
   "codemirror_mode": {
    "name": "ipython",
    "version": 3
   },
   "file_extension": ".py",
   "mimetype": "text/x-python",
   "name": "python",
   "nbconvert_exporter": "python",
   "pygments_lexer": "ipython3",
   "version": "3.13.5"
  }
 },
 "nbformat": 4,
 "nbformat_minor": 5
}
