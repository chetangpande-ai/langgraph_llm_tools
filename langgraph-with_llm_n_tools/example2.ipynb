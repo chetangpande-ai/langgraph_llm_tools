{
 "cells": [
  {
   "cell_type": "code",
   "execution_count": 4,
   "id": "9c090198",
   "metadata": {},
   "outputs": [
    {
     "name": "stderr",
     "output_type": "stream",
     "text": [
      "d:\\Chetan Pande\\AI-ML-2025\\agentic-ai-2.0\\langgraph_llm_tools\\tools-venv\\Lib\\site-packages\\tqdm\\auto.py:21: TqdmWarning: IProgress not found. Please update jupyter and ipywidgets. See https://ipywidgets.readthedocs.io/en/stable/user_install.html\n",
      "  from .autonotebook import tqdm as notebook_tqdm\n"
     ]
    }
   ],
   "source": [
    "\n",
    "from langchain_groq import ChatGroq\n",
    "llm = ChatGroq(\n",
    "    model_name=\"deepseek-r1-distill-llama-70b\",\n",
    "    temperature=0\n",
    ")\n",
    "response=llm.invoke(\"what is length of wall of china?\")"
   ]
  },
  {
   "cell_type": "code",
   "execution_count": 5,
   "id": "8f89f53e",
   "metadata": {},
   "outputs": [
    {
     "name": "stdout",
     "output_type": "stream",
     "text": [
      "<think>\n",
      "Okay, so I need to figure out the length of the Great Wall of China. I remember hearing that it's really long, but I'm not exactly sure how long. I think it's somewhere in the thousands of kilometers, but I'm not certain. Let me try to break this down.\n",
      "\n",
      "First, I know the Great Wall is a series of fortifications built across several Chinese dynasties. It wasn't built all at once, so maybe that's why the length can vary. I've heard different numbers before, like 13,000 miles or something like that, but I'm not sure if that's accurate.\n",
      "\n",
      "I should consider the different dynasties and how much each contributed to the wall. The Qin Dynasty, I think, was the first to build a long version of the wall, but it was probably not as extensive as later versions. Then the Han Dynasty might have extended it further. The most famous parts were probably built during the Ming Dynasty, which was much later.\n",
      "\n",
      "I also remember that the wall isn't a single continuous structure. There are sections that are broken, and some parts have been destroyed over time. So, when measuring the length, do they include all the separate sections, or just the main ones? That could affect the total length.\n",
      "\n",
      "I think in recent years, there was a survey done using more accurate methods like GPS and satellites. Maybe that survey gave a more precise measurement than the older estimates. I believe the number was around 13,170 miles, but I'm not 100% sure. I should check if that's the most recent figure or if there's a newer one.\n",
      "\n",
      "Also, the wall's condition varies a lot. Some parts are well-preserved and touristy, while others are overgrown or in ruins. I wonder if the length includes all sections, regardless of their condition, or only the parts that are still standing.\n",
      "\n",
      "Another thing to consider is that the wall was built for different purposes in different areas. In some places, it's more about defense, and in others, it might have been used for controlling trade routes. This could mean that the wall's construction and length varied based on strategic needs.\n",
      "\n",
      "I'm also thinking about how the wall is measured. Is it just the outer edges, or do they include all the watchtowers and beacon towers? Those structures might add to the overall length, but I'm not sure if they're included in the measurements.\n",
      "\n",
      "Wait, I think the 13,170-mile figure includes all the branches and spurs, not just the main wall. That makes sense because the wall isn't a straight line; it has many turns and branches. So, adding all those up would give a longer total length.\n",
      "\n",
      "I should also consider the units. Sometimes people use kilometers instead of miles, so I need to make sure I'm consistent. 13,170 miles converts to about 21,196 kilometers. That seems really long, but considering the wall spans across mountains and plains, it might add up.\n",
      "\n",
      "I'm trying to remember if there's any controversy or debate about the exact length. I think some sources might underestimate or overestimate based on how they measure and what they include. The Chinese National Cultural Heritage Administration probably has the most accurate data, so their figure should be reliable.\n",
      "\n",
      "In summary, the Great Wall of China's length is approximately 13,170 miles or 21,196 kilometers when all the branches and sections are included. This was determined by a more recent and thorough survey, so it's likely the most accurate estimate we have now.\n",
      "</think>\n",
      "\n",
      "The Great Wall of China's total length, including all its branches and spurs, is approximately 13,170 miles (21,196 kilometers). This measurement was determined by a recent, comprehensive survey using modern techniques like GPS, providing a more accurate figure than earlier estimates. The wall's length varies due to its construction across different dynasties and its purpose in various regions, leading to a complex structure with many turns and branches.\n"
     ]
    }
   ],
   "source": [
    "print(response.content)"
   ]
  },
  {
   "cell_type": "code",
   "execution_count": 6,
   "id": "b086856a",
   "metadata": {},
   "outputs": [],
   "source": [
    "from langchain.tools import tool"
   ]
  },
  {
   "cell_type": "code",
   "execution_count": 7,
   "id": "7a71fe65",
   "metadata": {},
   "outputs": [],
   "source": [
    "@tool\n",
    "def multiply(a: int, b: int) -> int:\n",
    "    \"\"\"\n",
    "    Multiply two integers.\n",
    "\n",
    "    Args:\n",
    "        a (int): The first integer.\n",
    "        b (int): The second integer.\n",
    "\n",
    "    Returns:\n",
    "        int: The product of a and b.\n",
    "    \"\"\"\n",
    "    return a * b\n",
    "\n",
    "@tool\n",
    "def add(a: int, b: int) -> int:\n",
    "    \"\"\"\n",
    "    Add two integers.\n",
    "\n",
    "    Args:\n",
    "        a (int): The first integer.\n",
    "        b (int): The second integer.\n",
    "\n",
    "    Returns:\n",
    "        int: The sum of a and b.\n",
    "    \"\"\"\n",
    "    return a + b\n",
    "\n",
    "@tool\n",
    "def divide(a: int, b: int) -> float:\n",
    "    \"\"\"\n",
    "    Divide two integers.\n",
    "\n",
    "    Args:\n",
    "        a (int): The numerator.\n",
    "        b (int): The denominator (must not be 0).\n",
    "\n",
    "    Returns:\n",
    "        float: The result of division.\n",
    "    \"\"\"\n",
    "    if b == 0:\n",
    "        raise ValueError(\"Denominator cannot be zero.\")\n",
    "    return a / b"
   ]
  },
  {
   "cell_type": "markdown",
   "id": "aeccefb9",
   "metadata": {},
   "source": [
    "### importing the inbuilt tool"
   ]
  },
  {
   "cell_type": "code",
   "execution_count": 1,
   "id": "f8798eb3",
   "metadata": {},
   "outputs": [],
   "source": [
    "from langchain_community.tools import DuckDuckGoSearchRun\n",
    "search=DuckDuckGoSearchRun()"
   ]
  },
  {
   "cell_type": "code",
   "execution_count": 2,
   "id": "911daef0",
   "metadata": {},
   "outputs": [
    {
     "data": {
      "text/plain": [
       "\"iPhone 17 and iPhone 17 Pro, and iPhone 17 Pro Max are crafted from aluminium, while iPhone Air is titanium.The iPhone 17 range is the newest generation of models available from Apple. Below you can find links to our reviews of all iPhone models, including the latest generation. Your iPhone updates will suddenly change — here’s what you need to know.“It’s in beta testing now, but a public launch isn’t far off.” The website looks back over the last three years, where iOS 18.1, iOS 17.1 and iOS 16.1 were all released in the last week of October. Update your iPhone NOW: Apple releases iOS 26.0.01 with important security fixes - here's how to download it on your device.Apple Releases iOS 26.0.1 With Fixes for Wi-Fi, Cellular, and Camera Issues on iPhone 17 Models. 5 Things the iPhone 17 Needs. Every iPhone Release . The latest iPhone software, iOS 26, has now launched, but Apple has issued a note to users explaining how they might see a temporary drop in battery life. The iPhone 17 Pro Max and iPhone 17 Pro are the best that Apple has to offer in terms of a 2025 phone. The new Pro duo was released alongside the vanilla model, the iPhone 17 , but this year, a newcomer is welcomed to the stage: the iPhone Air .\""
      ]
     },
     "execution_count": 2,
     "metadata": {},
     "output_type": "execute_result"
    }
   ],
   "source": [
    "search.invoke(\"what is the latest update on iphone17 release?\")"
   ]
  },
  {
   "cell_type": "code",
   "execution_count": 8,
   "id": "67a90f09",
   "metadata": {},
   "outputs": [],
   "source": [
    "tools=[multiply, add, divide, search]"
   ]
  },
  {
   "cell_type": "code",
   "execution_count": 9,
   "id": "45502e04",
   "metadata": {},
   "outputs": [],
   "source": [
    "llm_with_tools=llm.bind_tools(tools)"
   ]
  },
  {
   "cell_type": "code",
   "execution_count": 10,
   "id": "5883e0c7",
   "metadata": {},
   "outputs": [],
   "source": [
    "response=llm_with_tools.invoke(\"hi\")"
   ]
  },
  {
   "cell_type": "code",
   "execution_count": 11,
   "id": "dac5b6c0",
   "metadata": {},
   "outputs": [
    {
     "data": {
      "text/plain": [
       "'Hello! How can I assist you today?'"
      ]
     },
     "execution_count": 11,
     "metadata": {},
     "output_type": "execute_result"
    }
   ],
   "source": [
    "response.content"
   ]
  },
  {
   "cell_type": "code",
   "execution_count": 12,
   "id": "d39e7b38",
   "metadata": {},
   "outputs": [
    {
     "data": {
      "text/plain": [
       "[]"
      ]
     },
     "execution_count": 12,
     "metadata": {},
     "output_type": "execute_result"
    }
   ],
   "source": [
    "response.tool_calls"
   ]
  },
  {
   "cell_type": "code",
   "execution_count": 13,
   "id": "f0ac3559",
   "metadata": {},
   "outputs": [],
   "source": [
    "response=llm_with_tools.invoke(\"what is 2+2?\")"
   ]
  },
  {
   "cell_type": "code",
   "execution_count": 14,
   "id": "d9ebc218",
   "metadata": {},
   "outputs": [
    {
     "data": {
      "text/plain": [
       "''"
      ]
     },
     "execution_count": 14,
     "metadata": {},
     "output_type": "execute_result"
    }
   ],
   "source": [
    "response.content"
   ]
  },
  {
   "cell_type": "code",
   "execution_count": 15,
   "id": "a2ac3eb1",
   "metadata": {},
   "outputs": [
    {
     "data": {
      "text/plain": [
       "[{'name': 'add',\n",
       "  'args': {'a': 2, 'b': 2},\n",
       "  'id': 'pbnt47z5a',\n",
       "  'type': 'tool_call'}]"
      ]
     },
     "execution_count": 15,
     "metadata": {},
     "output_type": "execute_result"
    }
   ],
   "source": [
    "response.tool_calls"
   ]
  },
  {
   "cell_type": "code",
   "execution_count": 16,
   "id": "f628a424",
   "metadata": {},
   "outputs": [],
   "source": [
    "response=llm_with_tools.invoke(\"what is 10/2?\")"
   ]
  },
  {
   "cell_type": "code",
   "execution_count": 17,
   "id": "15aaf294",
   "metadata": {},
   "outputs": [
    {
     "data": {
      "text/plain": [
       "[{'name': 'divide',\n",
       "  'args': {'a': 10, 'b': 2},\n",
       "  'id': '0zt0drf9s',\n",
       "  'type': 'tool_call'}]"
      ]
     },
     "execution_count": 17,
     "metadata": {},
     "output_type": "execute_result"
    }
   ],
   "source": [
    "response.tool_calls"
   ]
  },
  {
   "cell_type": "code",
   "execution_count": 18,
   "id": "b722b77e",
   "metadata": {},
   "outputs": [],
   "source": [
    "response=llm_with_tools.invoke(\"what is a current age of the TATA Group?\")"
   ]
  },
  {
   "cell_type": "code",
   "execution_count": 19,
   "id": "151b1475",
   "metadata": {},
   "outputs": [
    {
     "data": {
      "text/plain": [
       "AIMessage(content='To determine the current age of the TATA Group, I will use the DuckDuckGo search tool to find the exact founding year and then calculate its age.\\n\\n', additional_kwargs={'reasoning_content': \"Okay, so I need to figure out the current age of the TATA Group. I'm not exactly sure how old they are, but I know they're a big company, probably been around for a while. Let me think about how to approach this.\\n\\nFirst, I should probably look up when the TATA Group was founded. I remember hearing that it's an Indian company, and it's been in existence for over a century. Maybe I can find the exact year it was established. Once I have the founding year, I can subtract that from the current year to get the age.\\n\\nWait, but I'm not sure about the exact founding date. I think it was in the late 1800s or early 1900s. Let me try to recall. I believe it was founded by Jamsetji Tata. I think the group started with a textile mill, and then expanded into other industries like steel and hospitality.\\n\\nSo, if I can find the founding year, I can calculate the age. Let's say, for example, it was founded in 1868. That would make it 155 years old in 2023. But I'm not entirely certain about the exact year. Maybe I should double-check that.\\n\\nAlternatively, I could use a tool to look up the information. Since I have access to the DuckDuckGo search function, I can use that to find the exact founding date of the TATA Group. That would give me the precise year and help me calculate the current age accurately.\\n\\nOnce I have the correct founding year, subtracting it from 2023 should give me the age. For instance, if it was founded in 1868, then 2023 minus 1868 equals 155 years. That seems reasonable, but I want to make sure the founding year is accurate.\\n\\nI should also consider if the company has undergone any significant changes or restructurings that might affect its age calculation. But generally, the founding year is the key factor in determining a company's age.\\n\\nIn summary, my approach is to find the founding year of the TATA Group using the DuckDuckGo search tool, then subtract that year from the current year to determine its age.\\n\", 'tool_calls': [{'id': 'dfexzhxjs', 'function': {'arguments': '{\"query\":\"founding year of TATA Group\"}', 'name': 'duckduckgo_search'}, 'type': 'function'}]}, response_metadata={'token_usage': {'completion_tokens': 518, 'prompt_tokens': 402, 'total_tokens': 920, 'completion_time': 1.9714572910000001, 'prompt_time': 0.045480098, 'queue_time': 0.042516862, 'total_time': 2.016937389}, 'model_name': 'deepseek-r1-distill-llama-70b', 'system_fingerprint': 'fp_1bbe7845ec', 'service_tier': 'on_demand', 'finish_reason': 'tool_calls', 'logprobs': None}, id='run--a666c15c-f84c-400f-bc61-0798b7c2a9ca-0', tool_calls=[{'name': 'duckduckgo_search', 'args': {'query': 'founding year of TATA Group'}, 'id': 'dfexzhxjs', 'type': 'tool_call'}], usage_metadata={'input_tokens': 402, 'output_tokens': 518, 'total_tokens': 920})"
      ]
     },
     "execution_count": 19,
     "metadata": {},
     "output_type": "execute_result"
    }
   ],
   "source": [
    "response"
   ]
  },
  {
   "cell_type": "code",
   "execution_count": 20,
   "id": "3b63c12f",
   "metadata": {},
   "outputs": [
    {
     "data": {
      "text/plain": [
       "[{'name': 'duckduckgo_search',\n",
       "  'args': {'query': 'founding year of TATA Group'},\n",
       "  'id': 'dfexzhxjs',\n",
       "  'type': 'tool_call'}]"
      ]
     },
     "execution_count": 20,
     "metadata": {},
     "output_type": "execute_result"
    }
   ],
   "source": [
    "response.tool_calls"
   ]
  },
  {
   "cell_type": "code",
   "execution_count": 21,
   "id": "d6b4b7bc",
   "metadata": {},
   "outputs": [],
   "source": [
    "SYSTEM_PROMPT=\"You are a helpful assistant tasked with using search and performing arithmetic on a set of inputs.\""
   ]
  },
  {
   "cell_type": "code",
   "execution_count": 22,
   "id": "1916e248",
   "metadata": {},
   "outputs": [],
   "source": [
    "user_query=[\"tell me what is 2+2\"]"
   ]
  },
  {
   "cell_type": "code",
   "execution_count": 23,
   "id": "044f92fb",
   "metadata": {},
   "outputs": [
    {
     "data": {
      "text/plain": [
       "['You are a helpful assistant tasked with using search and performing arithmetic on a set of inputs.',\n",
       " 'tell me what is 2+2']"
      ]
     },
     "execution_count": 23,
     "metadata": {},
     "output_type": "execute_result"
    }
   ],
   "source": [
    "[SYSTEM_PROMPT]+user_query"
   ]
  },
  {
   "cell_type": "code",
   "execution_count": 26,
   "id": "ad4b9e75",
   "metadata": {},
   "outputs": [],
   "source": [
    "from langgraph.graph import MessagesState\n",
    "def function_1(state:MessagesState):\n",
    "    \n",
    "    user_question=state[\"messages\"]\n",
    "    \n",
    "    input_question = [SYSTEM_PROMPT]+user_question\n",
    "    \n",
    "    response = llm_with_tools.invoke(input_question)\n",
    "    \n",
    "    return {\n",
    "        \"messages\":[response]\n",
    "    }\n",
    "    \n",
    "    "
   ]
  },
  {
   "cell_type": "code",
   "execution_count": 27,
   "id": "52c54b4f",
   "metadata": {},
   "outputs": [],
   "source": [
    "from langchain_core.messages import HumanMessage, SystemMessage\n",
    "from langgraph.graph import MessagesState,StateGraph, END, START"
   ]
  },
  {
   "cell_type": "code",
   "execution_count": 28,
   "id": "06df8469",
   "metadata": {},
   "outputs": [],
   "source": [
    "builder=StateGraph(MessagesState)"
   ]
  },
  {
   "cell_type": "code",
   "execution_count": 29,
   "id": "f8401ca2",
   "metadata": {},
   "outputs": [
    {
     "data": {
      "text/plain": [
       "<langgraph.graph.state.StateGraph at 0x244eaf69be0>"
      ]
     },
     "execution_count": 29,
     "metadata": {},
     "output_type": "execute_result"
    }
   ],
   "source": [
    "builder.add_node(\"llm_decision_step\",function_1)"
   ]
  },
  {
   "cell_type": "code",
   "execution_count": 30,
   "id": "8ced1c19",
   "metadata": {},
   "outputs": [
    {
     "data": {
      "text/plain": [
       "[StructuredTool(name='multiply', description='Multiply two integers.\\n\\nArgs:\\n    a (int): The first integer.\\n    b (int): The second integer.\\n\\nReturns:\\n    int: The product of a and b.', args_schema=<class 'langchain_core.utils.pydantic.multiply'>, func=<function multiply at 0x00000244EAF472E0>),\n",
       " StructuredTool(name='add', description='Add two integers.\\n\\nArgs:\\n    a (int): The first integer.\\n    b (int): The second integer.\\n\\nReturns:\\n    int: The sum of a and b.', args_schema=<class 'langchain_core.utils.pydantic.add'>, func=<function add at 0x00000244BF68B380>),\n",
       " StructuredTool(name='divide', description='Divide two integers.\\n\\nArgs:\\n    a (int): The numerator.\\n    b (int): The denominator (must not be 0).\\n\\nReturns:\\n    float: The result of division.', args_schema=<class 'langchain_core.utils.pydantic.divide'>, func=<function divide at 0x00000244EAF47380>),\n",
       " DuckDuckGoSearchRun(api_wrapper=DuckDuckGoSearchAPIWrapper(region='wt-wt', safesearch='moderate', time='y', max_results=5, backend='auto', source='text'))]"
      ]
     },
     "execution_count": 30,
     "metadata": {},
     "output_type": "execute_result"
    }
   ],
   "source": [
    "tools"
   ]
  },
  {
   "cell_type": "code",
   "execution_count": 31,
   "id": "0f003614",
   "metadata": {},
   "outputs": [
    {
     "data": {
      "text/plain": [
       "<langgraph.graph.state.StateGraph at 0x244eaf69be0>"
      ]
     },
     "execution_count": 31,
     "metadata": {},
     "output_type": "execute_result"
    }
   ],
   "source": [
    "from langgraph.prebuilt import ToolNode\n",
    "builder.add_node(\"tools\",ToolNode(tools))"
   ]
  },
  {
   "cell_type": "code",
   "execution_count": 32,
   "id": "a1867ebe",
   "metadata": {},
   "outputs": [
    {
     "data": {
      "text/plain": [
       "<langgraph.graph.state.StateGraph at 0x244eaf69be0>"
      ]
     },
     "execution_count": 32,
     "metadata": {},
     "output_type": "execute_result"
    }
   ],
   "source": [
    "builder.add_edge(START,\"llm_decision_step\")"
   ]
  },
  {
   "cell_type": "code",
   "execution_count": 33,
   "id": "80e8cf72",
   "metadata": {},
   "outputs": [
    {
     "data": {
      "text/plain": [
       "<langgraph.graph.state.StateGraph at 0x244eaf69be0>"
      ]
     },
     "execution_count": 33,
     "metadata": {},
     "output_type": "execute_result"
    }
   ],
   "source": [
    "from langgraph.prebuilt import tools_condition\n",
    "builder.add_conditional_edges(\n",
    "    \"llm_decision_step\",\n",
    "    tools_condition,\n",
    ")"
   ]
  },
  {
   "cell_type": "code",
   "execution_count": 34,
   "id": "8de32f53",
   "metadata": {},
   "outputs": [
    {
     "data": {
      "text/plain": [
       "<langgraph.graph.state.StateGraph at 0x244eaf69be0>"
      ]
     },
     "execution_count": 34,
     "metadata": {},
     "output_type": "execute_result"
    }
   ],
   "source": [
    "builder.add_edge(\"tools\",\"llm_decision_step\")"
   ]
  },
  {
   "cell_type": "code",
   "execution_count": 35,
   "id": "aa5d135d",
   "metadata": {},
   "outputs": [],
   "source": [
    "react_graph=builder.compile()"
   ]
  },
  {
   "cell_type": "code",
   "execution_count": 36,
   "id": "1dc8ef15",
   "metadata": {},
   "outputs": [
    {
     "data": {
      "image/png": "[encoded data removed]",
      "text/plain": [
       "<IPython.core.display.Image object>"
      ]
     },
     "metadata": {},
     "output_type": "display_data"
    }
   ],
   "source": [
    "from IPython.display import Image, display\n",
    "display(Image(react_graph.get_graph().draw_mermaid_png()))"
   ]
  },
  {
   "cell_type": "code",
   "execution_count": 37,
   "id": "baa2a744",
   "metadata": {},
   "outputs": [],
   "source": [
    "message=[HumanMessage(content=\"What is 2 times of narendramodi's age?\")]"
   ]
  },
  {
   "cell_type": "code",
   "execution_count": 38,
   "id": "4a26def8",
   "metadata": {},
   "outputs": [
    {
     "data": {
      "text/plain": [
       "{'messages': [HumanMessage(content=\"What is 2 times of narendramodi's age?\", additional_kwargs={}, response_metadata={}, id='049127a4-3cb3-4f10-aeff-21821fa89c18'),\n",
       "  AIMessage(content=\"To find 2 times Narendra Modi's age, I'll first look up his current age.\\n\\n\", additional_kwargs={'reasoning_content': 'Okay, so the user is asking, \"What is 2 times of narendramodi\\'s age?\" First, I need to figure out what exactly they\\'re asking for. It seems like they want to multiply Narendra Modi\\'s age by 2. \\n\\nTo do that, I need to find out how old Narendra Modi is. I don\\'t have that information off the top of my head, so I should use the DuckDuckGo search tool to look it up. \\n\\nI\\'ll call the duckduckgo_search function with the query \"Narendra Modi age\" to get the most accurate and up-to-date information. Once I have his age, I can then use the multiply function to calculate 2 times his age.\\n\\nI should make sure to handle any potential issues, like if the search doesn\\'t return a clear age or if there\\'s an error in the multiplication. But assuming everything goes smoothly, I\\'ll present the result clearly to the user.\\n', 'tool_calls': [{'id': 'paf8vaf08', 'function': {'arguments': '{\"query\":\"Narendra Modi age\"}', 'name': 'duckduckgo_search'}, 'type': 'function'}]}, response_metadata={'token_usage': {'completion_tokens': 303, 'prompt_tokens': 423, 'total_tokens': 726, 'completion_time': 1.181623006, 'prompt_time': 0.086882898, 'queue_time': 0.042746592, 'total_time': 1.268505904}, 'model_name': 'deepseek-r1-distill-llama-70b', 'system_fingerprint': 'fp_1bbe7845ec', 'service_tier': 'on_demand', 'finish_reason': 'tool_calls', 'logprobs': None}, id='run--acaec7fb-266d-40e9-a082-4d5b06d859b8-0', tool_calls=[{'name': 'duckduckgo_search', 'args': {'query': 'Narendra Modi age'}, 'id': 'paf8vaf08', 'type': 'tool_call'}], usage_metadata={'input_tokens': 423, 'output_tokens': 303, 'total_tokens': 726}),\n",
       "  ToolMessage(content=\"15 Sept 2025 — Born on September 17, 1950 , in Vadnagar, a small town in Gujarat, PM Modi comes from humble beginnings. His father, Damodardas Mulchand Modi, ran a tea stall ... A Historic Milestone for Prime Minister Narendra Modi 🗓️ On 25th July 2025, PM Narendra Modi will complete 4078 consecutive days in office,... 14 Sept 2025 — Prime Minister Narendra Modi will turn 75 on September 17, 2025 · Modi has served as India's PM for over 11 years and 111 days continuously ... Prime Minister Narendra Modi turns 75 today . Born in Gujarat's Vadnagar in 1950, PM Modi is India's first post-Independence-born PM and the longest-serving non- ... 17 Sept 2025 — In Vadnagar, Gujarat, on September 17, 1950, the current Prime Minister, Narendra Modi, was born; hence, PM Modi's Age is 73 years .\", name='duckduckgo_search', id='1391ac09-5a36-4529-9b13-44696398dfdd', tool_call_id='paf8vaf08'),\n",
       "  AIMessage(content='', additional_kwargs={'reasoning_content': 'Alright, so the user is asking for \"2 times of Narendra Modi\\'s age.\" First, I need to figure out how old Narendra Modi is. I remember that he was born in 1950, but I\\'m not exactly sure of the exact date. To get accurate information, I\\'ll use the DuckDuckGo search tool to look up his current age.\\n\\nAfter searching, I find that as of September 17, 2023, Narendra Modi is 73 years old. Now, the user wants twice his age, so I need to multiply 73 by 2. \\n\\nI\\'ll use the multiply function for this calculation. The function requires two integers, so I\\'ll input 73 and 2. Multiplying these together gives me 146. \\n\\nTherefore, twice Narendra Modi\\'s age is 146.\\n', 'tool_calls': [{'id': 'jq4famkx6', 'function': {'arguments': '{\"a\":73,\"b\":2}', 'name': 'multiply'}, 'type': 'function'}]}, response_metadata={'token_usage': {'completion_tokens': 207, 'prompt_tokens': 690, 'total_tokens': 897, 'completion_time': 0.801098923, 'prompt_time': 0.07274292, 'queue_time': 0.448033689, 'total_time': 0.873841843}, 'model_name': 'deepseek-r1-distill-llama-70b', 'system_fingerprint': 'fp_1bbe7845ec', 'service_tier': 'on_demand', 'finish_reason': 'tool_calls', 'logprobs': None}, id='run--718f82b9-ec4a-4fcc-a8ce-6f8a245b3e12-0', tool_calls=[{'name': 'multiply', 'args': {'a': 73, 'b': 2}, 'id': 'jq4famkx6', 'type': 'tool_call'}], usage_metadata={'input_tokens': 690, 'output_tokens': 207, 'total_tokens': 897}),\n",
       "  ToolMessage(content='146', name='multiply', id='d284e8cf-636f-4ad1-bd05-b758fd3f4614', tool_call_id='jq4famkx6'),\n",
       "  AIMessage(content='Narendra Modi is 75 years old as of September 2025. Therefore, 2 times his age is:\\n\\n', additional_kwargs={'reasoning_content': 'Alright, so the user is asking for \"2 times of Narendra Modi\\'s age.\" First, I need to figure out how old Narendra Modi is. I remember that he was born in 1950, but I\\'m not exactly sure of the exact year or his current age. To get accurate information, I\\'ll use the DuckDuckGo search tool to look up his age.\\n\\nAfter searching, I find that as of September 2025, Narendra Modi is 75 years old. Now, the user wants twice his age, so I need to multiply 75 by 2. Using the multiply tool, I get the result 150. Therefore, 2 times Narendra Modi\\'s age is 150.\\n', 'tool_calls': [{'id': 'fcrj38r3m', 'function': {'arguments': '{\"a\":75,\"b\":2}', 'name': 'multiply'}, 'type': 'function'}]}, response_metadata={'token_usage': {'completion_tokens': 199, 'prompt_tokens': 744, 'total_tokens': 943, 'completion_time': 0.757656559, 'prompt_time': 0.076894438, 'queue_time': 0.041724111, 'total_time': 0.834550997}, 'model_name': 'deepseek-r1-distill-llama-70b', 'system_fingerprint': 'fp_1bbe7845ec', 'service_tier': 'on_demand', 'finish_reason': 'tool_calls', 'logprobs': None}, id='run--c17d046a-7549-4b73-adce-66a454db636f-0', tool_calls=[{'name': 'multiply', 'args': {'a': 75, 'b': 2}, 'id': 'fcrj38r3m', 'type': 'tool_call'}], usage_metadata={'input_tokens': 744, 'output_tokens': 199, 'total_tokens': 943}),\n",
       "  ToolMessage(content='150', name='multiply', id='156bda63-1d30-4036-86c5-d4fc02b68e42', tool_call_id='fcrj38r3m'),\n",
       "  AIMessage(content=\"2 times Narendra Modi's age is 146.\", additional_kwargs={'reasoning_content': \"Alright, so I need to figure out what 2 times Narendra Modi's age is. First, I should find out how old he is. I remember that he was born in 1950, but I'm not exactly sure of the exact date. Maybe I can look that up. \\n\\nOkay, I just checked and saw that he was born on September 17, 1950. Now, to find his age in 2023, I subtract 1950 from 2023, which gives me 73 years old. So, Narendra Modi is 73 years old as of 2023.\\n\\nNow, I need to multiply his age by 2. That means I need to calculate 2 times 73. Let me do that: 2 multiplied by 70 is 140, and 2 multiplied by 3 is 6. Adding those together, 140 plus 6 equals 146. So, 2 times Narendra Modi's age is 146.\\n\\nWait a minute, I just saw that in 2025, he will be 75 years old. If I were to calculate this in 2025, it would be 2 times 75, which is 150. But since the current year is 2023, I think the correct calculation should be based on his current age, which is 73. Therefore, 2 times 73 is 146.\\n\\nI should make sure I'm using the correct year for his age. If the question is asking for 2023, then 146 is the right answer. If it's asking for 2025, then it would be 150. But since the question didn't specify the year, I'll assume it's asking for the current age in 2023.\\n\\nSo, final answer: 2 times Narendra Modi's age is 146.\\n\"}, response_metadata={'token_usage': {'completion_tokens': 388, 'prompt_tokens': 798, 'total_tokens': 1186, 'completion_time': 1.479613165, 'prompt_time': 0.082582262, 'queue_time': 0.083910134, 'total_time': 1.562195427}, 'model_name': 'deepseek-r1-distill-llama-70b', 'system_fingerprint': 'fp_1bbe7845ec', 'service_tier': 'on_demand', 'finish_reason': 'stop', 'logprobs': None}, id='run--1cc09a05-c46a-4141-b852-3783069a07af-0', usage_metadata={'input_tokens': 798, 'output_tokens': 388, 'total_tokens': 1186})]}"
      ]
     },
     "execution_count": 38,
     "metadata": {},
     "output_type": "execute_result"
    }
   ],
   "source": [
    "react_graph.invoke({\"messages\":message})"
   ]
  },
  {
   "cell_type": "code",
   "execution_count": 39,
   "id": "3b82bb96",
   "metadata": {},
   "outputs": [],
   "source": [
    "message = [HumanMessage(content=\"How much is the net worth of Elon Musk, and divide it by 2?\")]"
   ]
  },
  {
   "cell_type": "code",
   "execution_count": 40,
   "id": "a1ae6099",
   "metadata": {},
   "outputs": [
    {
     "data": {
      "text/plain": [
       "{'messages': [HumanMessage(content='How much is the net worth of Elon Musk, and divide it by 2?', additional_kwargs={}, response_metadata={}, id='4e48606f-f9ef-474b-a9db-066acd5e20c0'),\n",
       "  AIMessage(content=\"First, I'll look up Elon Musk's current net worth.\\n\\n\", additional_kwargs={'reasoning_content': 'Alright, so the user is asking for Elon Musk\\'s net worth and then to divide it by 2. First, I need to figure out his current net worth. I remember that his net worth fluctuates a lot, especially with the value of Tesla stock and other ventures like SpaceX. I don\\'t have real-time data, so I should probably look it up using the DuckDuckGo tool.\\n\\nOnce I have the net worth, the next step is to divide it by 2. That seems straightforward, but I need to make sure I\\'m using the correct function for division. Looking at the tools available, there\\'s a \"divide\" function that takes two integers and returns a float. So, I\\'ll use that function with the net worth as the numerator and 2 as the denominator.\\n\\nI should also consider the possibility that the net worth figure might be very large, so the result of the division could be a float with many decimal places. I\\'ll need to present it clearly for the user.\\n\\nWait, before I proceed, I should check if the net worth is publicly available and up-to-date. Since I can\\'t access real-time data, using the DuckDuckGo tool is the best option to get the most current information. I\\'ll structure the search query to find the latest figures.\\n\\nAfter obtaining the net worth, I\\'ll plug it into the divide function. It\\'s important to ensure that the function is called correctly with the right parameters. I\\'ll make sure to format the JSON correctly for both the search and the division functions.\\n\\nFinally, I\\'ll present the results in a clear and concise manner, explaining each step so the user understands how I arrived at the answer. This way, the user not only gets the result but also the reasoning behind it.\\n', 'tool_calls': [{'id': 'p62z55c54', 'function': {'arguments': '{\"query\":\"Elon Musk net worth 2023\"}', 'name': 'duckduckgo_search'}, 'type': 'function'}]}, response_metadata={'token_usage': {'completion_tokens': 471, 'prompt_tokens': 427, 'total_tokens': 898, 'completion_time': 1.7238107120000001, 'prompt_time': 0.052095586, 'queue_time': 0.043184077, 'total_time': 1.775906298}, 'model_name': 'deepseek-r1-distill-llama-70b', 'system_fingerprint': 'fp_1bbe7845ec', 'service_tier': 'on_demand', 'finish_reason': 'tool_calls', 'logprobs': None}, id='run--b35ba08e-a258-4d8c-9ac8-e685ab05ef2e-0', tool_calls=[{'name': 'duckduckgo_search', 'args': {'query': 'Elon Musk net worth 2023'}, 'id': 'p62z55c54', 'type': 'tool_call'}], usage_metadata={'input_tokens': 427, 'output_tokens': 471, 'total_tokens': 898}),\n",
       "  ToolMessage(content=\"Reading: Elon Musk Net Worth 2023 : How Did He Get So Rich? Everything You Need To Know! ... Elon Musk Net Worth 2023 : How Did He Get So Rich ... As of June 2023 , Elon Musk ’ s net worth is estimated between $37 billion and $40 billion, making him one of the wealthiest individuals in the ... According To – Elon Musk Net Worth 2023 : A Closer Look at His Net Worth , Since Tesla started making electric cars, the company’s value has ... As of Dec.18, 2023 , his net worth is estimated to be $254.9 billion, according to Forbes . ... Musk 's net worth has continued to soar, much like his ... Elon Musk 's net worth falls ... News / Business / Elon Musk 's net worth falls below $400 billion for the first time in 2025 as Tesla shares slump\", name='duckduckgo_search', id='1aba23a0-a5b7-4a81-8f11-7f5e3f911b19', tool_call_id='p62z55c54'),\n",
       "  AIMessage(content='', additional_kwargs={'reasoning_content': \"Alright, so the user is asking about Elon Musk's net worth and then wants me to divide that number by 2. First, I need to figure out the current net worth of Elon Musk. I remember that his net worth can fluctuate a lot, especially with the stock prices of his companies like Tesla and SpaceX. \\n\\nI'll start by using the DuckDuckGo tool to search for the most recent information on his net worth. The search results show a few different figures. One source mentions between $37 billion and $40 billion as of June 2023, while another source from Forbes states $254.9 billion as of December 18, 2023. There's also a mention that his net worth fell below $400 billion in 2025. \\n\\nHmm, these numbers vary widely. I need to determine which one is the most accurate and up-to-date. The $254.9 billion figure from Forbes in December 2023 seems more reliable since Forbes is a well-known source for wealth estimates. \\n\\nNow, the user wants me to divide this net worth by 2. So, I'll take $254.9 billion and divide it by 2. That should give me half of his net worth. \\n\\nI should make sure to present the answer clearly, stating the net worth and then the result of the division. It's important to use the correct formatting for the tool call, ensuring that the function name and arguments are properly structured in JSON within the XML tags.\\n\", 'tool_calls': [{'id': 'hde53h7yf', 'function': {'arguments': '{\"a\":254900000000,\"b\":2}', 'name': 'divide'}, 'type': 'function'}]}, response_metadata={'token_usage': {'completion_tokens': 332, 'prompt_tokens': 668, 'total_tokens': 1000, 'completion_time': 1.245095346, 'prompt_time': 0.070163894, 'queue_time': 0.041565907, 'total_time': 1.31525924}, 'model_name': 'deepseek-r1-distill-llama-70b', 'system_fingerprint': 'fp_1bbe7845ec', 'service_tier': 'on_demand', 'finish_reason': 'tool_calls', 'logprobs': None}, id='run--c7dce36e-b6e4-4f1c-9c21-dfc5b29c7ad9-0', tool_calls=[{'name': 'divide', 'args': {'a': 254900000000, 'b': 2}, 'id': 'hde53h7yf', 'type': 'tool_call'}], usage_metadata={'input_tokens': 668, 'output_tokens': 332, 'total_tokens': 1000}),\n",
       "  ToolMessage(content='127450000000.0', name='divide', id='eca9c3a4-4e59-466a-aebf-04aae3029dfa', tool_call_id='hde53h7yf'),\n",
       "  AIMessage(content=\"As of December 18, 2023, Elon Musk's net worth is estimated to be $254.9 billion, according to Forbes. Dividing this amount by 2 gives:\\n\\n\\\\[\\n\\\\frac{254,900,000,000}{2} = 127,450,000,000.0\\n\\\\]\\n\\nSo, half of Elon Musk's net worth is **$127.45 billion**.\", additional_kwargs={'reasoning_content': 'Alright, so the user is asking about Elon Musk\\'s net worth and then wants to divide it by 2. First, I need to figure out his current net worth. I remember that net worth can fluctuate a lot, especially for someone like Elon Musk, so I should look up the most recent data.\\n\\nI\\'ll start by using the DuckDuckGo tool to search for \"Elon Musk net worth 2023\". From the search results, I see that as of December 18, 2023, Forbes estimates his net worth to be $254.9 billion. That seems like a reliable source, so I\\'ll go with that number.\\n\\nNext, the user wants to divide this net worth by 2. I\\'ll use the divide tool for this. I\\'ll input 254900000000 as \\'a\\' and 2 as \\'b\\'. \\n\\nAfter performing the division, I get 127450000000.0. That means half of Elon Musk\\'s net worth is $127.45 billion. \\n\\nI should present this information clearly, making sure to attribute the net worth figure to Forbes and explain the division step. This way, the user gets a complete and accurate answer to their query.\\n'}, response_metadata={'token_usage': {'completion_tokens': 336, 'prompt_tokens': 730, 'total_tokens': 1066, 'completion_time': 1.244116895, 'prompt_time': 0.075465642, 'queue_time': 0.041843679, 'total_time': 1.319582537}, 'model_name': 'deepseek-r1-distill-llama-70b', 'system_fingerprint': 'fp_1bbe7845ec', 'service_tier': 'on_demand', 'finish_reason': 'stop', 'logprobs': None}, id='run--97bc1626-dca8-4cba-a5ba-159e3756ce81-0', usage_metadata={'input_tokens': 730, 'output_tokens': 336, 'total_tokens': 1066})]}"
      ]
     },
     "execution_count": 40,
     "metadata": {},
     "output_type": "execute_result"
    }
   ],
   "source": [
    "react_graph.invoke({\"messages\":message})"
   ]
  },
  {
   "cell_type": "code",
   "execution_count": 41,
   "id": "5481f80d",
   "metadata": {},
   "outputs": [],
   "source": [
    "response=react_graph.invoke({\"messages\":message})"
   ]
  },
  {
   "cell_type": "code",
   "execution_count": 42,
   "id": "70e85877",
   "metadata": {},
   "outputs": [
    {
     "data": {
      "text/plain": [
       "\"Elon Musk's net worth as of October 2023 is estimated to be around **$230 billion**. When we divide this amount by 2, the result is:\\n\\n\\\\[\\n\\\\boxed{115000000000.0}\\n\\\\]\""
      ]
     },
     "execution_count": 42,
     "metadata": {},
     "output_type": "execute_result"
    }
   ],
   "source": [
    "response[\"messages\"][-1].content"
   ]
  },
  {
   "cell_type": "code",
   "execution_count": 43,
   "id": "df45fea9",
   "metadata": {},
   "outputs": [
    {
     "name": "stdout",
     "output_type": "stream",
     "text": [
      "================================\u001b[1m Human Message \u001b[0m=================================\n",
      "\n",
      "How much is the net worth of Elon Musk, and divide it by 2?\n",
      "==================================\u001b[1m Ai Message \u001b[0m==================================\n",
      "Tool Calls:\n",
      "  duckduckgo_search (hxs9qhdt1)\n",
      " Call ID: hxs9qhdt1\n",
      "  Args:\n",
      "    query: Elon Musk net worth 2023\n",
      "=================================\u001b[1m Tool Message \u001b[0m=================================\n",
      "Name: duckduckgo_search\n",
      "\n",
      "Current Net Worth As of October 2023 , Elon Musk's net worth is estimated to be around USD 230 billion, making him one of the richest individuals globally. This considerable fortune is largely attributed to his stake in several high-profile companies, including Tesla, SpaceX, Neuralink, and Boring Company. Elon Musk's Current Net Worth As of October 2023 , Elon Musk's net worth is approximately $230 billion, making him one of the world's wealthiest individuals. This figure is primarily reported by Forbes, reflecting Musk's substantial holdings and financial activities across various sectors. His wealth is significantly influenced by his investments in key companies, particularly Tesla. Tesla chief Elon Musk's net worth briefly surpassed $500 billion before paring down to $470 billion as Tesla shares surged in Wednesday trading. Tesla boss Elon Musk has become the first person ever to achieve a net worth of more than $500bn (£370.9bn), as the value of the electric car company and his other businesses have risen this year. Elon Musk on Wednesday became the first person to surpass $500 billion in net worth , powered by a rebound in Tesla's share price this year and swelling valuations of his other tech ventures. The ...\n",
      "==================================\u001b[1m Ai Message \u001b[0m==================================\n",
      "Tool Calls:\n",
      "  divide (7m9eggys7)\n",
      " Call ID: 7m9eggys7\n",
      "  Args:\n",
      "    a: 230000000000\n",
      "    b: 2\n",
      "=================================\u001b[1m Tool Message \u001b[0m=================================\n",
      "Name: divide\n",
      "\n",
      "115000000000.0\n",
      "==================================\u001b[1m Ai Message \u001b[0m==================================\n",
      "\n",
      "Elon Musk's net worth as of October 2023 is estimated to be around **$230 billion**. When we divide this amount by 2, the result is:\n",
      "\n",
      "\\[\n",
      "\\boxed{115000000000.0}\n",
      "\\]\n"
     ]
    }
   ],
   "source": [
    "for m in response[\"messages\"]:\n",
    "    m.pretty_print()"
   ]
  }
 ],
 "metadata": {
  "kernelspec": {
   "display_name": "tools-venv",
   "language": "python",
   "name": "python3"
  },
  "language_info": {
   "codemirror_mode": {
    "name": "ipython",
    "version": 3
   },
   "file_extension": ".py",
   "mimetype": "text/x-python",
   "name": "python",
   "nbconvert_exporter": "python",
   "pygments_lexer": "ipython3",
   "version": "3.13.5"
  }
 },
 "nbformat": 4,
 "nbformat_minor": 5
}
